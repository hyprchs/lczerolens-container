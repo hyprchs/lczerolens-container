{
 "cells": [
  {
   "cell_type": "code",
   "execution_count": 1,
   "id": "8ecfb35d",
   "metadata": {},
   "outputs": [],
   "source": [
    "%reload_ext autoreload\n",
    "%autoreload 2"
   ]
  },
  {
   "cell_type": "code",
   "execution_count": 2,
   "id": "7d31fe41-ccf3-4cde-bfd4-48368cf8038f",
   "metadata": {},
   "outputs": [],
   "source": [
    "from lczero.backends import Weights"
   ]
  },
  {
   "cell_type": "code",
   "execution_count": 3,
   "id": "9fbad2ec",
   "metadata": {},
   "outputs": [
    {
     "data": {
      "text/plain": [
       "True"
      ]
     },
     "execution_count": 3,
     "metadata": {},
     "output_type": "execute_result"
    }
   ],
   "source": [
    "import torch\n",
    "\n",
    "torch.cuda.is_available()"
   ]
  },
  {
   "cell_type": "code",
   "execution_count": null,
   "id": "55d4ee66",
   "metadata": {},
   "outputs": [
    {
     "name": "stdout",
     "output_type": "stream",
     "text": [
      "Requirement already satisfied: gdown in /usr/local/lib/python3.9/site-packages (5.2.0)\n",
      "Requirement already satisfied: beautifulsoup4 in /usr/local/lib/python3.9/site-packages (from gdown) (4.12.3)\n",
      "Requirement already satisfied: filelock in /usr/local/lib/python3.9/site-packages (from gdown) (3.16.1)\n",
      "Requirement already satisfied: requests[socks] in /usr/local/lib/python3.9/site-packages (from gdown) (2.32.3)\n",
      "Requirement already satisfied: tqdm in /usr/local/lib/python3.9/site-packages (from gdown) (4.67.0)\n",
      "Requirement already satisfied: soupsieve>1.2 in /usr/local/lib/python3.9/site-packages (from beautifulsoup4->gdown) (2.6)\n",
      "Requirement already satisfied: charset-normalizer<4,>=2 in /usr/local/lib/python3.9/site-packages (from requests[socks]->gdown) (3.4.0)\n",
      "Requirement already satisfied: idna<4,>=2.5 in /usr/local/lib/python3.9/site-packages (from requests[socks]->gdown) (3.10)\n",
      "Requirement already satisfied: urllib3<3,>=1.21.1 in /usr/local/lib/python3.9/site-packages (from requests[socks]->gdown) (2.2.3)\n",
      "Requirement already satisfied: certifi>=2017.4.17 in /usr/local/lib/python3.9/site-packages (from requests[socks]->gdown) (2024.8.30)\n",
      "Requirement already satisfied: PySocks!=1.5.7,>=1.5.6 in /usr/local/lib/python3.9/site-packages (from requests[socks]->gdown) (1.7.1)\n",
      "\u001b[33mWARNING: Running pip as the 'root' user can result in broken permissions and conflicting behaviour with the system package manager, possibly rendering your system unusable.It is recommended to use a virtual environment instead: https://pip.pypa.io/warnings/venv. Use the --root-user-action option if you know what you are doing and want to suppress this warning.\u001b[0m\u001b[33m\n",
      "\u001b[0mNote: you may need to restart the kernel to use updated packages.\n"
     ]
    }
   ],
   "source": [
    "# %pip install gdown"
   ]
  },
  {
   "cell_type": "code",
   "execution_count": null,
   "id": "9f31b440",
   "metadata": {},
   "outputs": [
    {
     "name": "stdout",
     "output_type": "stream",
     "text": [
      "Downloading...\n",
      "From: https://drive.google.com/uc?id=1erxB3tULDURjpPhiPWVGr6X986Q8uE6U\n",
      "To: /app/src/leela_models/leela-network.pb.gz\n",
      "100%|██████████████████████████████████████| 1.31M/1.31M [00:00<00:00, 3.01MB/s]\n"
     ]
    }
   ],
   "source": [
    "# !gdown 1erxB3tULDURjpPhiPWVGr6X986Q8uE6U -O leela_models/leela_network.pb.gz"
   ]
  },
  {
   "cell_type": "code",
   "execution_count": 4,
   "id": "9d85d47c",
   "metadata": {},
   "outputs": [],
   "source": [
    "import os\n",
    "from lczerolens.encodings import backends"
   ]
  },
  {
   "cell_type": "code",
   "execution_count": 5,
   "id": "b14f41b3",
   "metadata": {},
   "outputs": [],
   "source": [
    "CURRENT_DIR = os.getcwd()\n",
    "LEELA_MODELS_DIR = os.path.join(CURRENT_DIR, 'leela_models')"
   ]
  },
  {
   "cell_type": "code",
   "execution_count": 6,
   "id": "3f66fea6",
   "metadata": {},
   "outputs": [
    {
     "name": "stdout",
     "output_type": "stream",
     "text": [
      "\n",
      "Format\n",
      "~~~~~~\n",
      "            Weights encoding: LINEAR16\n",
      "                       Input: INPUT_CLASSICAL_112_PLANE\n",
      "                     Network: NETWORK_SE_WITH_HEADFORMAT\n",
      "                      Policy: POLICY_CONVOLUTION\n",
      "                       Value: VALUE_WDL\n",
      "\n",
      "Weights\n",
      "~~~~~~~\n",
      "                      Blocks: 6\n",
      "                   SE blocks: 6\n",
      "                     Filters: 64\n",
      "                      Policy: Convolution\n",
      "           Policy activation: ACTIVATION_DEFAULT\n",
      "                       Value: WDL\n",
      "                         MLH: Absent\n",
      "Converting Leela network to the ONNX.\n",
      "\n",
      "ONNX interface\n",
      "~~~~~~~~~~~~~~\n",
      "                   Data type: FLOAT\n",
      "                Input planes: /input/planes\n",
      "                  Output WDL: /output/wdl\n",
      "               Output Policy: /output/policy\n",
      "Done.\n",
      "\n"
     ]
    }
   ],
   "source": [
    "leela_model_onnx = backends.convert_to_onnx(\n",
    "    os.path.join(LEELA_MODELS_DIR, \"leela_network.pb.gz\"),\n",
    "    os.path.join(LEELA_MODELS_DIR, \"leela_network.onnx\")\n",
    ")\n",
    "print(leela_model_onnx)"
   ]
  },
  {
   "cell_type": "code",
   "execution_count": null,
   "id": "8ce39501",
   "metadata": {},
   "outputs": [
    {
     "name": "stdout",
     "output_type": "stream",
     "text": [
      "Downloading...\n",
      "From: https://drive.google.com/uc?id=1cxC8_8vw7akfPyc9cZxwaAbLG2Zl4XiT\n",
      "To: /app/src/leela_models/lc0_10_4238.onnx\n",
      "100%|██████████████████████████████████████| 15.2M/15.2M [00:01<00:00, 9.15MB/s]\n"
     ]
    }
   ],
   "source": [
    "# !gdown 1cxC8_8vw7akfPyc9cZxwaAbLG2Zl4XiT -O leela_models/lc0_10_4238.onnx"
   ]
  },
  {
   "cell_type": "code",
   "execution_count": 8,
   "id": "31e12147",
   "metadata": {},
   "outputs": [
    {
     "data": {
      "text/plain": [
       "['.git',\n",
       " '.ipynb_checkpoints',\n",
       " 'create_vlm.ipynb',\n",
       " 'leela_models',\n",
       " 'training_pipeline',\n",
       " 'Untitled.ipynb']"
      ]
     },
     "execution_count": 8,
     "metadata": {},
     "output_type": "execute_result"
    }
   ],
   "source": [
    "os.listdir()"
   ]
  },
  {
   "cell_type": "code",
   "execution_count": null,
   "id": "d3f1a029-5477-4566-a47f-3b98ba269309",
   "metadata": {},
   "outputs": [
    {
     "ename": "ImportError",
     "evalue": "attempted relative import with no known parent package",
     "output_type": "error",
     "traceback": [
      "\u001b[0;31m---------------------------------------------------------------------------\u001b[0m",
      "\u001b[0;31mImportError\u001b[0m                               Traceback (most recent call last)",
      "Cell \u001b[0;32mIn[10], line 1\u001b[0m\n\u001b[0;32m----> 1\u001b[0m \u001b[38;5;28;01mfrom\u001b[39;00m \u001b[38;5;21;01m.\u001b[39;00m\u001b[38;5;21;01m.\u001b[39;00m\u001b[38;5;21;01mlib\u001b[39;00m\u001b[38;5;21;01m.\u001b[39;00m\u001b[38;5;21;01mlczerolens\u001b[39;00m\u001b[38;5;21;01m.\u001b[39;00m\u001b[38;5;21;01msrc\u001b[39;00m\u001b[38;5;21;01m.\u001b[39;00m\u001b[38;5;21;01mlczerolens\u001b[39;00m \u001b[38;5;28;01mimport\u001b[39;00m LczeroModel\n\u001b[1;32m      3\u001b[0m model \u001b[38;5;241m=\u001b[39m LczeroModel\u001b[38;5;241m.\u001b[39mfrom_path(\n\u001b[1;32m      4\u001b[0m     os\u001b[38;5;241m.\u001b[39mpath\u001b[38;5;241m.\u001b[39mjoin(LEELA_MODELS_DIR, \u001b[38;5;124m\"\u001b[39m\u001b[38;5;124mlc0_10_4238.onnx\u001b[39m\u001b[38;5;124m\"\u001b[39m)\n\u001b[1;32m      5\u001b[0m )\n\u001b[1;32m      6\u001b[0m model\n",
      "\u001b[0;31mImportError\u001b[0m: attempted relative import with no known parent package"
     ]
    }
   ],
   "source": [
    "from lib.lczerolens.src.lczerolens import LczeroModel\n",
    "\n",
    "model = LczeroModel.from_path(\n",
    "    os.path.join(LEELA_MODELS_DIR, \"lc0_10_4238.onnx\")\n",
    ")\n",
    "model"
   ]
  },
  {
   "cell_type": "code",
   "execution_count": 12,
   "id": "f3919a8d",
   "metadata": {},
   "outputs": [
    {
     "data": {
      "text/plain": [
       "DatasetDict({\n",
       "    train: Dataset({\n",
       "        features: ['gameid', 'moves', 'fen'],\n",
       "        num_rows: 2231423\n",
       "    })\n",
       "    test: Dataset({\n",
       "        features: ['gameid', 'moves', 'fen'],\n",
       "        num_rows: 557856\n",
       "    })\n",
       "})"
      ]
     },
     "execution_count": 12,
     "metadata": {},
     "output_type": "execute_result"
    }
   ],
   "source": [
    "from datasets import load_dataset\n",
    "dataset = load_dataset(\"lczero-planning/boards\")\n",
    "dataset"
   ]
  },
  {
   "cell_type": "code",
   "execution_count": 13,
   "id": "ee89abb8",
   "metadata": {},
   "outputs": [
    {
     "data": {
      "image/svg+xml": [
       "<svg xmlns=\"http://www.w3.org/2000/svg\" xmlns:xlink=\"http://www.w3.org/1999/xlink\" viewBox=\"0 0 390 390\" width=\"390\" height=\"390\"><desc><pre>. . . . . . . .\n",
       ". . . k . . . .\n",
       ". . p . r . . p\n",
       "P . R . . . . .\n",
       ". . . . . . P .\n",
       ". . . . . . K .\n",
       ". P . . . . . .\n",
       ". . . . . . . .</pre></desc><defs><g id=\"white-pawn\" class=\"white pawn\"><path d=\"M22.5 9c-2.21 0-4 1.79-4 4 0 .89.29 1.71.78 2.38C17.33 16.5 16 18.59 16 21c0 2.03.94 3.84 2.41 5.03-3 1.06-7.41 5.55-7.41 13.47h23c0-7.92-4.41-12.41-7.41-13.47 1.47-1.19 2.41-3 2.41-5.03 0-2.41-1.33-4.5-3.28-5.62.49-.67.78-1.49.78-2.38 0-2.21-1.79-4-4-4z\" fill=\"#fff\" stroke=\"#000\" stroke-width=\"1.5\" stroke-linecap=\"round\" /></g><g id=\"white-rook\" class=\"white rook\" fill=\"#fff\" fill-rule=\"evenodd\" stroke=\"#000\" stroke-width=\"1.5\" stroke-linecap=\"round\" stroke-linejoin=\"round\"><path d=\"M9 39h27v-3H9v3zM12 36v-4h21v4H12zM11 14V9h4v2h5V9h5v2h5V9h4v5\" stroke-linecap=\"butt\" /><path d=\"M34 14l-3 3H14l-3-3\" /><path d=\"M31 17v12.5H14V17\" stroke-linecap=\"butt\" stroke-linejoin=\"miter\" /><path d=\"M31 29.5l1.5 2.5h-20l1.5-2.5\" /><path d=\"M11 14h23\" fill=\"none\" stroke-linejoin=\"miter\" /></g><g id=\"white-king\" class=\"white king\" fill=\"none\" fill-rule=\"evenodd\" stroke=\"#000\" stroke-width=\"1.5\" stroke-linecap=\"round\" stroke-linejoin=\"round\"><path d=\"M22.5 11.63V6M20 8h5\" stroke-linejoin=\"miter\" /><path d=\"M22.5 25s4.5-7.5 3-10.5c0 0-1-2.5-3-2.5s-3 2.5-3 2.5c-1.5 3 3 10.5 3 10.5\" fill=\"#fff\" stroke-linecap=\"butt\" stroke-linejoin=\"miter\" /><path d=\"M11.5 37c5.5 3.5 15.5 3.5 21 0v-7s9-4.5 6-10.5c-4-6.5-13.5-3.5-16 4V27v-3.5c-3.5-7.5-13-10.5-16-4-3 6 5 10 5 10V37z\" fill=\"#fff\" /><path d=\"M11.5 30c5.5-3 15.5-3 21 0m-21 3.5c5.5-3 15.5-3 21 0m-21 3.5c5.5-3 15.5-3 21 0\" /></g><g id=\"black-pawn\" class=\"black pawn\"><path d=\"M22.5 9c-2.21 0-4 1.79-4 4 0 .89.29 1.71.78 2.38C17.33 16.5 16 18.59 16 21c0 2.03.94 3.84 2.41 5.03-3 1.06-7.41 5.55-7.41 13.47h23c0-7.92-4.41-12.41-7.41-13.47 1.47-1.19 2.41-3 2.41-5.03 0-2.41-1.33-4.5-3.28-5.62.49-.67.78-1.49.78-2.38 0-2.21-1.79-4-4-4z\" fill=\"#000\" stroke=\"#000\" stroke-width=\"1.5\" stroke-linecap=\"round\" /></g><g id=\"black-rook\" class=\"black rook\" fill=\"#000\" fill-rule=\"evenodd\" stroke=\"#000\" stroke-width=\"1.5\" stroke-linecap=\"round\" stroke-linejoin=\"round\"><path d=\"M9 39h27v-3H9v3zM12.5 32l1.5-2.5h17l1.5 2.5h-20zM12 36v-4h21v4H12z\" stroke-linecap=\"butt\" /><path d=\"M14 29.5v-13h17v13H14z\" stroke-linecap=\"butt\" stroke-linejoin=\"miter\" /><path d=\"M14 16.5L11 14h23l-3 2.5H14zM11 14V9h4v2h5V9h5v2h5V9h4v5H11z\" stroke-linecap=\"butt\" /><path d=\"M12 35.5h21M13 31.5h19M14 29.5h17M14 16.5h17M11 14h23\" fill=\"none\" stroke=\"#fff\" stroke-width=\"1\" stroke-linejoin=\"miter\" /></g><g id=\"black-king\" class=\"black king\" fill=\"none\" fill-rule=\"evenodd\" stroke=\"#000\" stroke-width=\"1.5\" stroke-linecap=\"round\" stroke-linejoin=\"round\"><path d=\"M22.5 11.63V6\" stroke-linejoin=\"miter\" /><path d=\"M22.5 25s4.5-7.5 3-10.5c0 0-1-2.5-3-2.5s-3 2.5-3 2.5c-1.5 3 3 10.5 3 10.5\" fill=\"#000\" stroke-linecap=\"butt\" stroke-linejoin=\"miter\" /><path d=\"M11.5 37c5.5 3.5 15.5 3.5 21 0v-7s9-4.5 6-10.5c-4-6.5-13.5-3.5-16 4V27v-3.5c-3.5-7.5-13-10.5-16-4-3 6 5 10 5 10V37z\" fill=\"#000\" /><path d=\"M20 8h5\" stroke-linejoin=\"miter\" /><path d=\"M32 29.5s8.5-4 6.03-9.65C34.15 14 25 18 22.5 24.5l.01 2.1-.01-2.1C20 18 9.906 14 6.997 19.85c-2.497 5.65 4.853 9 4.853 9M11.5 30c5.5-3 15.5-3 21 0m-21 3.5c5.5-3 15.5-3 21 0m-21 3.5c5.5-3 15.5-3 21 0\" stroke=\"#fff\" /></g></defs><rect x=\"7.5\" y=\"7.5\" width=\"375\" height=\"375\" fill=\"none\" stroke=\"#212121\" stroke-width=\"15\" /><g transform=\"translate(20, 1) scale(0.75, 0.75)\" fill=\"#e5e5e5\" stroke=\"#e5e5e5\"><path d=\"M23.328 10.016q-1.742 0-2.414.398-.672.398-.672 1.36 0 .765.5 1.218.508.445 1.375.445 1.196 0 1.914-.843.727-.852.727-2.258v-.32zm2.867-.594v4.992h-1.437v-1.328q-.492.797-1.227 1.18-.734.375-1.797.375-1.343 0-2.14-.75-.79-.758-.79-2.024 0-1.476.985-2.226.992-.75 2.953-.75h2.016V8.75q0-.992-.656-1.531-.649-.547-1.829-.547-.75 0-1.46.18-.711.18-1.368.539V6.062q.79-.304 1.532-.453.742-.156 1.445-.156 1.898 0 2.836.984.937.985.937 2.985z\" /></g><g transform=\"translate(20, 375) scale(0.75, 0.75)\" fill=\"#e5e5e5\" stroke=\"#e5e5e5\"><path d=\"M23.328 10.016q-1.742 0-2.414.398-.672.398-.672 1.36 0 .765.5 1.218.508.445 1.375.445 1.196 0 1.914-.843.727-.852.727-2.258v-.32zm2.867-.594v4.992h-1.437v-1.328q-.492.797-1.227 1.18-.734.375-1.797.375-1.343 0-2.14-.75-.79-.758-.79-2.024 0-1.476.985-2.226.992-.75 2.953-.75h2.016V8.75q0-.992-.656-1.531-.649-.547-1.829-.547-.75 0-1.46.18-.711.18-1.368.539V6.062q.79-.304 1.532-.453.742-.156 1.445-.156 1.898 0 2.836.984.937.985.937 2.985z\" /></g><g transform=\"translate(65, 1) scale(0.75, 0.75)\" fill=\"#e5e5e5\" stroke=\"#e5e5e5\"><path d=\"M24.922 10.047q0-1.586-.656-2.485-.649-.906-1.79-.906-1.14 0-1.796.906-.649.899-.649 2.485 0 1.586.649 2.492.656.898 1.797.898 1.14 0 1.789-.898.656-.906.656-2.492zm-4.89-3.055q.452-.781 1.14-1.156.695-.383 1.656-.383 1.594 0 2.586 1.266 1 1.265 1 3.328 0 2.062-1 3.328-.992 1.266-2.586 1.266-.96 0-1.656-.375-.688-.383-1.14-1.164v1.312h-1.446V2.258h1.445z\" /></g><g transform=\"translate(65, 375) scale(0.75, 0.75)\" fill=\"#e5e5e5\" stroke=\"#e5e5e5\"><path d=\"M24.922 10.047q0-1.586-.656-2.485-.649-.906-1.79-.906-1.14 0-1.796.906-.649.899-.649 2.485 0 1.586.649 2.492.656.898 1.797.898 1.14 0 1.789-.898.656-.906.656-2.492zm-4.89-3.055q.452-.781 1.14-1.156.695-.383 1.656-.383 1.594 0 2.586 1.266 1 1.265 1 3.328 0 2.062-1 3.328-.992 1.266-2.586 1.266-.96 0-1.656-.375-.688-.383-1.14-1.164v1.312h-1.446V2.258h1.445z\" /></g><g transform=\"translate(110, 1) scale(0.75, 0.75)\" fill=\"#e5e5e5\" stroke=\"#e5e5e5\"><path d=\"M25.96 6v1.344q-.608-.336-1.226-.5-.609-.172-1.234-.172-1.398 0-2.172.89-.773.883-.773 2.485 0 1.601.773 2.492.774.883 2.172.883.625 0 1.234-.164.618-.172 1.227-.508v1.328q-.602.281-1.25.422-.64.14-1.367.14-1.977 0-3.14-1.242-1.165-1.242-1.165-3.351 0-2.14 1.172-3.367 1.18-1.227 3.227-1.227.664 0 1.296.14.633.134 1.227.407z\" /></g><g transform=\"translate(110, 375) scale(0.75, 0.75)\" fill=\"#e5e5e5\" stroke=\"#e5e5e5\"><path d=\"M25.96 6v1.344q-.608-.336-1.226-.5-.609-.172-1.234-.172-1.398 0-2.172.89-.773.883-.773 2.485 0 1.601.773 2.492.774.883 2.172.883.625 0 1.234-.164.618-.172 1.227-.508v1.328q-.602.281-1.25.422-.64.14-1.367.14-1.977 0-3.14-1.242-1.165-1.242-1.165-3.351 0-2.14 1.172-3.367 1.18-1.227 3.227-1.227.664 0 1.296.14.633.134 1.227.407z\" /></g><g transform=\"translate(155, 1) scale(0.75, 0.75)\" fill=\"#e5e5e5\" stroke=\"#e5e5e5\"><path d=\"M24.973 6.992V2.258h1.437v12.156h-1.437v-1.312q-.453.78-1.149 1.164-.687.375-1.656.375-1.586 0-2.586-1.266-.992-1.266-.992-3.328 0-2.063.992-3.328 1-1.266 2.586-1.266.969 0 1.656.383.696.375 1.149 1.156zm-4.899 3.055q0 1.586.649 2.492.656.898 1.797.898 1.14 0 1.796-.898.657-.906.657-2.492 0-1.586-.657-2.485-.656-.906-1.796-.906-1.141 0-1.797.906-.649.899-.649 2.485z\" /></g><g transform=\"translate(155, 375) scale(0.75, 0.75)\" fill=\"#e5e5e5\" stroke=\"#e5e5e5\"><path d=\"M24.973 6.992V2.258h1.437v12.156h-1.437v-1.312q-.453.78-1.149 1.164-.687.375-1.656.375-1.586 0-2.586-1.266-.992-1.266-.992-3.328 0-2.063.992-3.328 1-1.266 2.586-1.266.969 0 1.656.383.696.375 1.149 1.156zm-4.899 3.055q0 1.586.649 2.492.656.898 1.797.898 1.14 0 1.796-.898.657-.906.657-2.492 0-1.586-.657-2.485-.656-.906-1.796-.906-1.141 0-1.797.906-.649.899-.649 2.485z\" /></g><g transform=\"translate(200, 1) scale(0.75, 0.75)\" fill=\"#e5e5e5\" stroke=\"#e5e5e5\"><path d=\"M26.555 9.68v.703h-6.61q.094 1.484.89 2.265.806.774 2.235.774.828 0 1.602-.203.781-.203 1.547-.61v1.36q-.774.328-1.586.5-.813.172-1.649.172-2.093 0-3.32-1.22-1.219-1.218-1.219-3.296 0-2.148 1.157-3.406 1.164-1.266 3.132-1.266 1.766 0 2.79 1.14 1.03 1.134 1.03 3.087zm-1.438-.422q-.015-1.18-.664-1.883-.64-.703-1.703-.703-1.203 0-1.93.68-.718.68-.828 1.914z\" /></g><g transform=\"translate(200, 375) scale(0.75, 0.75)\" fill=\"#e5e5e5\" stroke=\"#e5e5e5\"><path d=\"M26.555 9.68v.703h-6.61q.094 1.484.89 2.265.806.774 2.235.774.828 0 1.602-.203.781-.203 1.547-.61v1.36q-.774.328-1.586.5-.813.172-1.649.172-2.093 0-3.32-1.22-1.219-1.218-1.219-3.296 0-2.148 1.157-3.406 1.164-1.266 3.132-1.266 1.766 0 2.79 1.14 1.03 1.134 1.03 3.087zm-1.438-.422q-.015-1.18-.664-1.883-.64-.703-1.703-.703-1.203 0-1.93.68-.718.68-.828 1.914z\" /></g><g transform=\"translate(245, 1) scale(0.75, 0.75)\" fill=\"#e5e5e5\" stroke=\"#e5e5e5\"><path d=\"M25.285 2.258v1.195H23.91q-.773 0-1.078.313-.297.312-.297 1.125v.773h2.367v1.117h-2.367v7.633H21.09V6.781h-1.375V5.664h1.375v-.61q0-1.46.68-2.124.68-.672 2.156-.672z\" /></g><g transform=\"translate(245, 375) scale(0.75, 0.75)\" fill=\"#e5e5e5\" stroke=\"#e5e5e5\"><path d=\"M25.285 2.258v1.195H23.91q-.773 0-1.078.313-.297.312-.297 1.125v.773h2.367v1.117h-2.367v7.633H21.09V6.781h-1.375V5.664h1.375v-.61q0-1.46.68-2.124.68-.672 2.156-.672z\" /></g><g transform=\"translate(290, 1) scale(0.75, 0.75)\" fill=\"#e5e5e5\" stroke=\"#e5e5e5\"><path d=\"M24.973 9.937q0-1.562-.649-2.421-.64-.86-1.804-.86-1.157 0-1.805.86-.64.859-.64 2.421 0 1.555.64 2.415.648.859 1.805.859 1.164 0 1.804-.86.649-.859.649-2.414zm1.437 3.391q0 2.234-.992 3.32-.992 1.094-3.04 1.094-.757 0-1.429-.117-.672-.11-1.304-.344v-1.398q.632.344 1.25.508.617.164 1.257.164 1.414 0 2.118-.743.703-.734.703-2.226v-.711q-.446.773-1.141 1.156-.695.383-1.664.383-1.61 0-2.594-1.227-.984-1.226-.984-3.25 0-2.03.984-3.257.985-1.227 2.594-1.227.969 0 1.664.383t1.14 1.156V5.664h1.438z\" /></g><g transform=\"translate(290, 375) scale(0.75, 0.75)\" fill=\"#e5e5e5\" stroke=\"#e5e5e5\"><path d=\"M24.973 9.937q0-1.562-.649-2.421-.64-.86-1.804-.86-1.157 0-1.805.86-.64.859-.64 2.421 0 1.555.64 2.415.648.859 1.805.859 1.164 0 1.804-.86.649-.859.649-2.414zm1.437 3.391q0 2.234-.992 3.32-.992 1.094-3.04 1.094-.757 0-1.429-.117-.672-.11-1.304-.344v-1.398q.632.344 1.25.508.617.164 1.257.164 1.414 0 2.118-.743.703-.734.703-2.226v-.711q-.446.773-1.141 1.156-.695.383-1.664.383-1.61 0-2.594-1.227-.984-1.226-.984-3.25 0-2.03.984-3.257.985-1.227 2.594-1.227.969 0 1.664.383t1.14 1.156V5.664h1.438z\" /></g><g transform=\"translate(335, 1) scale(0.75, 0.75)\" fill=\"#e5e5e5\" stroke=\"#e5e5e5\"><path d=\"M26.164 9.133v5.281h-1.437V9.18q0-1.243-.485-1.86-.484-.617-1.453-.617-1.164 0-1.836.742-.672.742-.672 2.024v4.945h-1.445V2.258h1.445v4.765q.516-.789 1.211-1.18.703-.39 1.617-.39 1.508 0 2.282.938.773.93.773 2.742z\" /></g><g transform=\"translate(335, 375) scale(0.75, 0.75)\" fill=\"#e5e5e5\" stroke=\"#e5e5e5\"><path d=\"M26.164 9.133v5.281h-1.437V9.18q0-1.243-.485-1.86-.484-.617-1.453-.617-1.164 0-1.836.742-.672.742-.672 2.024v4.945h-1.445V2.258h1.445v4.765q.516-.789 1.211-1.18.703-.39 1.617-.39 1.508 0 2.282.938.773.93.773 2.742z\" /></g><g transform=\"translate(0, 335) scale(0.75, 0.75)\" fill=\"#e5e5e5\" stroke=\"#e5e5e5\"><path d=\"M6.754 26.996h2.578v-8.898l-2.805.562v-1.437l2.79-.563h1.578v10.336h2.578v1.328h-6.72z\" /></g><g transform=\"translate(375, 335) scale(0.75, 0.75)\" fill=\"#e5e5e5\" stroke=\"#e5e5e5\"><path d=\"M6.754 26.996h2.578v-8.898l-2.805.562v-1.437l2.79-.563h1.578v10.336h2.578v1.328h-6.72z\" /></g><g transform=\"translate(0, 290) scale(0.75, 0.75)\" fill=\"#e5e5e5\" stroke=\"#e5e5e5\"><path d=\"M8.195 26.996h5.508v1.328H6.297v-1.328q.898-.93 2.445-2.492 1.555-1.57 1.953-2.024.758-.851 1.055-1.437.305-.594.305-1.164 0-.93-.657-1.516-.648-.586-1.695-.586-.742 0-1.57.258-.82.258-1.758.781v-1.593q.953-.383 1.781-.578.828-.196 1.516-.196 1.812 0 2.89.906 1.079.907 1.079 2.422 0 .72-.274 1.368-.265.64-.976 1.515-.196.227-1.243 1.313-1.046 1.078-2.953 3.023z\" /></g><g transform=\"translate(375, 290) scale(0.75, 0.75)\" fill=\"#e5e5e5\" stroke=\"#e5e5e5\"><path d=\"M8.195 26.996h5.508v1.328H6.297v-1.328q.898-.93 2.445-2.492 1.555-1.57 1.953-2.024.758-.851 1.055-1.437.305-.594.305-1.164 0-.93-.657-1.516-.648-.586-1.695-.586-.742 0-1.57.258-.82.258-1.758.781v-1.593q.953-.383 1.781-.578.828-.196 1.516-.196 1.812 0 2.89.906 1.079.907 1.079 2.422 0 .72-.274 1.368-.265.64-.976 1.515-.196.227-1.243 1.313-1.046 1.078-2.953 3.023z\" /></g><g transform=\"translate(0, 245) scale(0.75, 0.75)\" fill=\"#e5e5e5\" stroke=\"#e5e5e5\"><path d=\"M11.434 22.035q1.132.242 1.765 1.008.64.766.64 1.89 0 1.727-1.187 2.672-1.187.946-3.375.946-.734 0-1.515-.149-.774-.14-1.602-.43V26.45q.656.383 1.438.578.78.196 1.632.196 1.485 0 2.258-.586.782-.586.782-1.703 0-1.032-.727-1.61-.719-.586-2.008-.586h-1.36v-1.297h1.423q1.164 0 1.78-.46.618-.47.618-1.344 0-.899-.64-1.375-.633-.485-1.82-.485-.65 0-1.391.141-.743.14-1.633.437V16.95q.898-.25 1.68-.375.788-.125 1.484-.125 1.797 0 2.844.82 1.046.813 1.046 2.204 0 .968-.554 1.64-.555.664-1.578.922z\" /></g><g transform=\"translate(375, 245) scale(0.75, 0.75)\" fill=\"#e5e5e5\" stroke=\"#e5e5e5\"><path d=\"M11.434 22.035q1.132.242 1.765 1.008.64.766.64 1.89 0 1.727-1.187 2.672-1.187.946-3.375.946-.734 0-1.515-.149-.774-.14-1.602-.43V26.45q.656.383 1.438.578.78.196 1.632.196 1.485 0 2.258-.586.782-.586.782-1.703 0-1.032-.727-1.61-.719-.586-2.008-.586h-1.36v-1.297h1.423q1.164 0 1.78-.46.618-.47.618-1.344 0-.899-.64-1.375-.633-.485-1.82-.485-.65 0-1.391.141-.743.14-1.633.437V16.95q.898-.25 1.68-.375.788-.125 1.484-.125 1.797 0 2.844.82 1.046.813 1.046 2.204 0 .968-.554 1.64-.555.664-1.578.922z\" /></g><g transform=\"translate(0, 200) scale(0.75, 0.75)\" fill=\"#e5e5e5\" stroke=\"#e5e5e5\"><path d=\"M11.016 18.035L7.03 24.262h3.985zm-.414-1.375h1.984v7.602h1.664v1.312h-1.664v2.75h-1.57v-2.75H5.75v-1.523z\" /></g><g transform=\"translate(375, 200) scale(0.75, 0.75)\" fill=\"#e5e5e5\" stroke=\"#e5e5e5\"><path d=\"M11.016 18.035L7.03 24.262h3.985zm-.414-1.375h1.984v7.602h1.664v1.312h-1.664v2.75h-1.57v-2.75H5.75v-1.523z\" /></g><g transform=\"translate(0, 155) scale(0.75, 0.75)\" fill=\"#e5e5e5\" stroke=\"#e5e5e5\"><path d=\"M6.719 16.66h6.195v1.328h-4.75v2.86q.344-.118.688-.172.343-.063.687-.063 1.953 0 3.094 1.07 1.14 1.07 1.14 2.899 0 1.883-1.171 2.93-1.172 1.039-3.305 1.039-.735 0-1.5-.125-.758-.125-1.57-.375v-1.586q.703.383 1.453.57.75.188 1.586.188 1.351 0 2.14-.711.79-.711.79-1.93 0-1.219-.79-1.93-.789-.71-2.14-.71-.633 0-1.266.14-.625.14-1.281.438z\" /></g><g transform=\"translate(375, 155) scale(0.75, 0.75)\" fill=\"#e5e5e5\" stroke=\"#e5e5e5\"><path d=\"M6.719 16.66h6.195v1.328h-4.75v2.86q.344-.118.688-.172.343-.063.687-.063 1.953 0 3.094 1.07 1.14 1.07 1.14 2.899 0 1.883-1.171 2.93-1.172 1.039-3.305 1.039-.735 0-1.5-.125-.758-.125-1.57-.375v-1.586q.703.383 1.453.57.75.188 1.586.188 1.351 0 2.14-.711.79-.711.79-1.93 0-1.219-.79-1.93-.789-.71-2.14-.71-.633 0-1.266.14-.625.14-1.281.438z\" /></g><g transform=\"translate(0, 110) scale(0.75, 0.75)\" fill=\"#e5e5e5\" stroke=\"#e5e5e5\"><path d=\"M10.137 21.863q-1.063 0-1.688.727-.617.726-.617 1.992 0 1.258.617 1.992.625.727 1.688.727 1.062 0 1.68-.727.624-.734.624-1.992 0-1.266-.625-1.992-.617-.727-1.68-.727zm3.133-4.945v1.437q-.594-.28-1.204-.43-.601-.148-1.195-.148-1.562 0-2.39 1.055-.82 1.055-.938 3.188.46-.68 1.156-1.04.696-.367 1.531-.367 1.758 0 2.774 1.07 1.023 1.063 1.023 2.899 0 1.797-1.062 2.883-1.063 1.086-2.828 1.086-2.024 0-3.094-1.547-1.07-1.555-1.07-4.5 0-2.766 1.312-4.406 1.313-1.649 3.524-1.649.593 0 1.195.117.61.118 1.266.352z\" /></g><g transform=\"translate(375, 110) scale(0.75, 0.75)\" fill=\"#e5e5e5\" stroke=\"#e5e5e5\"><path d=\"M10.137 21.863q-1.063 0-1.688.727-.617.726-.617 1.992 0 1.258.617 1.992.625.727 1.688.727 1.062 0 1.68-.727.624-.734.624-1.992 0-1.266-.625-1.992-.617-.727-1.68-.727zm3.133-4.945v1.437q-.594-.28-1.204-.43-.601-.148-1.195-.148-1.562 0-2.39 1.055-.82 1.055-.938 3.188.46-.68 1.156-1.04.696-.367 1.531-.367 1.758 0 2.774 1.07 1.023 1.063 1.023 2.899 0 1.797-1.062 2.883-1.063 1.086-2.828 1.086-2.024 0-3.094-1.547-1.07-1.555-1.07-4.5 0-2.766 1.312-4.406 1.313-1.649 3.524-1.649.593 0 1.195.117.61.118 1.266.352z\" /></g><g transform=\"translate(0, 65) scale(0.75, 0.75)\" fill=\"#e5e5e5\" stroke=\"#e5e5e5\"><path d=\"M6.25 16.66h7.5v.672L9.516 28.324H7.867l3.985-10.336H6.25z\" /></g><g transform=\"translate(375, 65) scale(0.75, 0.75)\" fill=\"#e5e5e5\" stroke=\"#e5e5e5\"><path d=\"M6.25 16.66h7.5v.672L9.516 28.324H7.867l3.985-10.336H6.25z\" /></g><g transform=\"translate(0, 20) scale(0.75, 0.75)\" fill=\"#e5e5e5\" stroke=\"#e5e5e5\"><path d=\"M10 22.785q-1.125 0-1.773.602-.641.601-.641 1.656t.64 1.656q.649.602 1.774.602t1.773-.602q.649-.61.649-1.656 0-1.055-.649-1.656-.64-.602-1.773-.602zm-1.578-.672q-1.016-.25-1.586-.945-.563-.695-.563-1.695 0-1.399.993-2.211 1-.813 2.734-.813 1.742 0 2.734.813.993.812.993 2.21 0 1-.57 1.696-.563.695-1.571.945 1.14.266 1.773 1.04.641.773.641 1.89 0 1.695-1.04 2.602-1.03.906-2.96.906t-2.969-.906Q6 26.738 6 25.043q0-1.117.64-1.89.641-.774 1.782-1.04zm-.578-2.492q0 .906.562 1.414.57.508 1.594.508 1.016 0 1.586-.508.578-.508.578-1.414 0-.906-.578-1.414-.57-.508-1.586-.508-1.023 0-1.594.508-.562.508-.562 1.414z\" /></g><g transform=\"translate(375, 20) scale(0.75, 0.75)\" fill=\"#e5e5e5\" stroke=\"#e5e5e5\"><path d=\"M10 22.785q-1.125 0-1.773.602-.641.601-.641 1.656t.64 1.656q.649.602 1.774.602t1.773-.602q.649-.61.649-1.656 0-1.055-.649-1.656-.64-.602-1.773-.602zm-1.578-.672q-1.016-.25-1.586-.945-.563-.695-.563-1.695 0-1.399.993-2.211 1-.813 2.734-.813 1.742 0 2.734.813.993.812.993 2.21 0 1-.57 1.696-.563.695-1.571.945 1.14.266 1.773 1.04.641.773.641 1.89 0 1.695-1.04 2.602-1.03.906-2.96.906t-2.969-.906Q6 26.738 6 25.043q0-1.117.64-1.89.641-.774 1.782-1.04zm-.578-2.492q0 .906.562 1.414.57.508 1.594.508 1.016 0 1.586-.508.578-.508.578-1.414 0-.906-.578-1.414-.57-.508-1.586-.508-1.023 0-1.594.508-.562.508-.562 1.414z\" /></g><rect x=\"15\" y=\"330\" width=\"45\" height=\"45\" class=\"square dark a1\" stroke=\"none\" fill=\"#d18b47\" /><rect x=\"60\" y=\"330\" width=\"45\" height=\"45\" class=\"square light b1\" stroke=\"none\" fill=\"#ffce9e\" /><rect x=\"105\" y=\"330\" width=\"45\" height=\"45\" class=\"square dark c1\" stroke=\"none\" fill=\"#d18b47\" /><rect x=\"150\" y=\"330\" width=\"45\" height=\"45\" class=\"square light d1\" stroke=\"none\" fill=\"#ffce9e\" /><rect x=\"195\" y=\"330\" width=\"45\" height=\"45\" class=\"square dark e1\" stroke=\"none\" fill=\"#d18b47\" /><rect x=\"240\" y=\"330\" width=\"45\" height=\"45\" class=\"square light f1\" stroke=\"none\" fill=\"#ffce9e\" /><rect x=\"285\" y=\"330\" width=\"45\" height=\"45\" class=\"square dark g1\" stroke=\"none\" fill=\"#d18b47\" /><rect x=\"330\" y=\"330\" width=\"45\" height=\"45\" class=\"square light h1\" stroke=\"none\" fill=\"#ffce9e\" /><rect x=\"15\" y=\"285\" width=\"45\" height=\"45\" class=\"square light a2\" stroke=\"none\" fill=\"#ffce9e\" /><rect x=\"60\" y=\"285\" width=\"45\" height=\"45\" class=\"square dark b2\" stroke=\"none\" fill=\"#d18b47\" /><rect x=\"105\" y=\"285\" width=\"45\" height=\"45\" class=\"square light c2\" stroke=\"none\" fill=\"#ffce9e\" /><rect x=\"150\" y=\"285\" width=\"45\" height=\"45\" class=\"square dark d2\" stroke=\"none\" fill=\"#d18b47\" /><rect x=\"195\" y=\"285\" width=\"45\" height=\"45\" class=\"square light e2\" stroke=\"none\" fill=\"#ffce9e\" /><rect x=\"240\" y=\"285\" width=\"45\" height=\"45\" class=\"square dark f2\" stroke=\"none\" fill=\"#d18b47\" /><rect x=\"285\" y=\"285\" width=\"45\" height=\"45\" class=\"square light g2\" stroke=\"none\" fill=\"#ffce9e\" /><rect x=\"330\" y=\"285\" width=\"45\" height=\"45\" class=\"square dark h2\" stroke=\"none\" fill=\"#d18b47\" /><rect x=\"15\" y=\"240\" width=\"45\" height=\"45\" class=\"square dark a3\" stroke=\"none\" fill=\"#d18b47\" /><rect x=\"60\" y=\"240\" width=\"45\" height=\"45\" class=\"square light b3\" stroke=\"none\" fill=\"#ffce9e\" /><rect x=\"105\" y=\"240\" width=\"45\" height=\"45\" class=\"square dark c3\" stroke=\"none\" fill=\"#d18b47\" /><rect x=\"150\" y=\"240\" width=\"45\" height=\"45\" class=\"square light d3\" stroke=\"none\" fill=\"#ffce9e\" /><rect x=\"195\" y=\"240\" width=\"45\" height=\"45\" class=\"square dark e3\" stroke=\"none\" fill=\"#d18b47\" /><rect x=\"240\" y=\"240\" width=\"45\" height=\"45\" class=\"square light f3\" stroke=\"none\" fill=\"#ffce9e\" /><rect x=\"285\" y=\"240\" width=\"45\" height=\"45\" class=\"square dark g3\" stroke=\"none\" fill=\"#d18b47\" /><rect x=\"330\" y=\"240\" width=\"45\" height=\"45\" class=\"square light h3\" stroke=\"none\" fill=\"#ffce9e\" /><rect x=\"15\" y=\"195\" width=\"45\" height=\"45\" class=\"square light a4\" stroke=\"none\" fill=\"#ffce9e\" /><rect x=\"60\" y=\"195\" width=\"45\" height=\"45\" class=\"square dark b4\" stroke=\"none\" fill=\"#d18b47\" /><rect x=\"105\" y=\"195\" width=\"45\" height=\"45\" class=\"square light c4\" stroke=\"none\" fill=\"#ffce9e\" /><rect x=\"150\" y=\"195\" width=\"45\" height=\"45\" class=\"square dark d4\" stroke=\"none\" fill=\"#d18b47\" /><rect x=\"195\" y=\"195\" width=\"45\" height=\"45\" class=\"square light e4\" stroke=\"none\" fill=\"#ffce9e\" /><rect x=\"240\" y=\"195\" width=\"45\" height=\"45\" class=\"square dark f4\" stroke=\"none\" fill=\"#d18b47\" /><rect x=\"285\" y=\"195\" width=\"45\" height=\"45\" class=\"square light g4\" stroke=\"none\" fill=\"#ffce9e\" /><rect x=\"330\" y=\"195\" width=\"45\" height=\"45\" class=\"square dark h4\" stroke=\"none\" fill=\"#d18b47\" /><rect x=\"15\" y=\"150\" width=\"45\" height=\"45\" class=\"square dark a5\" stroke=\"none\" fill=\"#d18b47\" /><rect x=\"60\" y=\"150\" width=\"45\" height=\"45\" class=\"square light b5\" stroke=\"none\" fill=\"#ffce9e\" /><rect x=\"105\" y=\"150\" width=\"45\" height=\"45\" class=\"square dark c5\" stroke=\"none\" fill=\"#d18b47\" /><rect x=\"150\" y=\"150\" width=\"45\" height=\"45\" class=\"square light d5\" stroke=\"none\" fill=\"#ffce9e\" /><rect x=\"195\" y=\"150\" width=\"45\" height=\"45\" class=\"square dark e5\" stroke=\"none\" fill=\"#d18b47\" /><rect x=\"240\" y=\"150\" width=\"45\" height=\"45\" class=\"square light f5\" stroke=\"none\" fill=\"#ffce9e\" /><rect x=\"285\" y=\"150\" width=\"45\" height=\"45\" class=\"square dark g5\" stroke=\"none\" fill=\"#d18b47\" /><rect x=\"330\" y=\"150\" width=\"45\" height=\"45\" class=\"square light h5\" stroke=\"none\" fill=\"#ffce9e\" /><rect x=\"15\" y=\"105\" width=\"45\" height=\"45\" class=\"square light a6\" stroke=\"none\" fill=\"#ffce9e\" /><rect x=\"60\" y=\"105\" width=\"45\" height=\"45\" class=\"square dark b6\" stroke=\"none\" fill=\"#d18b47\" /><rect x=\"105\" y=\"105\" width=\"45\" height=\"45\" class=\"square light c6\" stroke=\"none\" fill=\"#ffce9e\" /><rect x=\"150\" y=\"105\" width=\"45\" height=\"45\" class=\"square dark d6\" stroke=\"none\" fill=\"#d18b47\" /><rect x=\"195\" y=\"105\" width=\"45\" height=\"45\" class=\"square light e6\" stroke=\"none\" fill=\"#ffce9e\" /><rect x=\"240\" y=\"105\" width=\"45\" height=\"45\" class=\"square dark f6\" stroke=\"none\" fill=\"#d18b47\" /><rect x=\"285\" y=\"105\" width=\"45\" height=\"45\" class=\"square light g6\" stroke=\"none\" fill=\"#ffce9e\" /><rect x=\"330\" y=\"105\" width=\"45\" height=\"45\" class=\"square dark h6\" stroke=\"none\" fill=\"#d18b47\" /><rect x=\"15\" y=\"60\" width=\"45\" height=\"45\" class=\"square dark a7\" stroke=\"none\" fill=\"#d18b47\" /><rect x=\"60\" y=\"60\" width=\"45\" height=\"45\" class=\"square light b7\" stroke=\"none\" fill=\"#ffce9e\" /><rect x=\"105\" y=\"60\" width=\"45\" height=\"45\" class=\"square dark c7\" stroke=\"none\" fill=\"#d18b47\" /><rect x=\"150\" y=\"60\" width=\"45\" height=\"45\" class=\"square light d7\" stroke=\"none\" fill=\"#ffce9e\" /><rect x=\"195\" y=\"60\" width=\"45\" height=\"45\" class=\"square dark e7\" stroke=\"none\" fill=\"#d18b47\" /><rect x=\"240\" y=\"60\" width=\"45\" height=\"45\" class=\"square light f7\" stroke=\"none\" fill=\"#ffce9e\" /><rect x=\"285\" y=\"60\" width=\"45\" height=\"45\" class=\"square dark g7\" stroke=\"none\" fill=\"#d18b47\" /><rect x=\"330\" y=\"60\" width=\"45\" height=\"45\" class=\"square light h7\" stroke=\"none\" fill=\"#ffce9e\" /><rect x=\"15\" y=\"15\" width=\"45\" height=\"45\" class=\"square light a8\" stroke=\"none\" fill=\"#ffce9e\" /><rect x=\"60\" y=\"15\" width=\"45\" height=\"45\" class=\"square dark b8\" stroke=\"none\" fill=\"#d18b47\" /><rect x=\"105\" y=\"15\" width=\"45\" height=\"45\" class=\"square light c8\" stroke=\"none\" fill=\"#ffce9e\" /><rect x=\"150\" y=\"15\" width=\"45\" height=\"45\" class=\"square dark d8\" stroke=\"none\" fill=\"#d18b47\" /><rect x=\"195\" y=\"15\" width=\"45\" height=\"45\" class=\"square light e8\" stroke=\"none\" fill=\"#ffce9e\" /><rect x=\"240\" y=\"15\" width=\"45\" height=\"45\" class=\"square dark f8\" stroke=\"none\" fill=\"#d18b47\" /><rect x=\"285\" y=\"15\" width=\"45\" height=\"45\" class=\"square light g8\" stroke=\"none\" fill=\"#ffce9e\" /><rect x=\"330\" y=\"15\" width=\"45\" height=\"45\" class=\"square dark h8\" stroke=\"none\" fill=\"#d18b47\" /><use href=\"#white-pawn\" xlink:href=\"#white-pawn\" transform=\"translate(60, 285)\" /><use href=\"#white-king\" xlink:href=\"#white-king\" transform=\"translate(285, 240)\" /><use href=\"#white-pawn\" xlink:href=\"#white-pawn\" transform=\"translate(285, 195)\" /><use href=\"#white-pawn\" xlink:href=\"#white-pawn\" transform=\"translate(15, 150)\" /><use href=\"#white-rook\" xlink:href=\"#white-rook\" transform=\"translate(105, 150)\" /><use href=\"#black-pawn\" xlink:href=\"#black-pawn\" transform=\"translate(105, 105)\" /><use href=\"#black-rook\" xlink:href=\"#black-rook\" transform=\"translate(195, 105)\" /><use href=\"#black-pawn\" xlink:href=\"#black-pawn\" transform=\"translate(330, 105)\" /><use href=\"#black-king\" xlink:href=\"#black-king\" transform=\"translate(150, 60)\" /></svg>"
      ],
      "text/plain": [
       "Board('8/3k4/2p1r2p/P1R5/6P1/6K1/1P6/8 w - - 1 54')"
      ]
     },
     "execution_count": 13,
     "metadata": {},
     "output_type": "execute_result"
    }
   ],
   "source": [
    "from chess import Board\n",
    "\n",
    "board = Board(dataset['train'][1]['fen'])\n",
    "board"
   ]
  },
  {
   "cell_type": "code",
   "execution_count": 14,
   "id": "51398605",
   "metadata": {},
   "outputs": [],
   "source": [
    "from lib.lczerolens.src.lczerolens.lenses import ActivationLens\n",
    "import chess\n",
    "\n",
    "lens = ActivationLens()\n",
    "board = chess.Board()\n",
    "activations, output = lens.analyse(board, model=model, return_output=True)"
   ]
  },
  {
   "cell_type": "code",
   "execution_count": 32,
   "id": "6b7fdcf8",
   "metadata": {},
   "outputs": [
    {
     "ename": "TypeError",
     "evalue": "unbound method Weights.input_format() needs an argument",
     "output_type": "error",
     "traceback": [
      "\u001b[0;31m---------------------------------------------------------------------------\u001b[0m",
      "\u001b[0;31mTypeError\u001b[0m                                 Traceback (most recent call last)",
      "Cell \u001b[0;32mIn[32], line 3\u001b[0m\n\u001b[1;32m      1\u001b[0m \u001b[38;5;28;01mfrom\u001b[39;00m \u001b[38;5;21;01mlczero\u001b[39;00m\u001b[38;5;21;01m.\u001b[39;00m\u001b[38;5;21;01mbackends\u001b[39;00m \u001b[38;5;28;01mimport\u001b[39;00m Weights\n\u001b[0;32m----> 3\u001b[0m \u001b[43mWeights\u001b[49m\u001b[38;5;241;43m.\u001b[39;49m\u001b[43minput_format\u001b[49m\u001b[43m(\u001b[49m\u001b[43m)\u001b[49m\n",
      "\u001b[0;31mTypeError\u001b[0m: unbound method Weights.input_format() needs an argument"
     ]
    }
   ],
   "source": [
    "from lczero.backends import Weights\n",
    "\n",
    "Weights.input_format()"
   ]
  },
  {
   "cell_type": "code",
   "execution_count": 21,
   "id": "5a62fa31",
   "metadata": {},
   "outputs": [
    {
     "data": {
      "text/plain": [
       "GraphModule(\n",
       "  (inputconv): Conv2d(112, 128, kernel_size=(3, 3), stride=(1, 1), padding=(1, 1))\n",
       "  (inputconv/relu): ReLU()\n",
       "  (block0/conv1): Conv2d(128, 128, kernel_size=(3, 3), stride=(1, 1), padding=(1, 1))\n",
       "  (block0/conv1/relu): ReLU()\n",
       "  (block0/conv2): Conv2d(128, 128, kernel_size=(3, 3), stride=(1, 1), padding=(1, 1))\n",
       "  (block0/conv2/se/pooled): OnnxGlobalAveragePoolWithKnownInputShape()\n",
       "  (initializers): Module()\n",
       "  (block0/conv2/se/squeeze): OnnxSqueezeDynamicAxes()\n",
       "  (block0/conv2/se/matmul1): OnnxMatMul()\n",
       "  (block0/conv2/se/add1): OnnxBinaryMathOperation()\n",
       "  (block0/conv2/se/relu): ReLU()\n",
       "  (block0/conv2/se/matmul2): OnnxMatMul()\n",
       "  (block0/conv2/se/add2): OnnxBinaryMathOperation()\n",
       "  (block0/conv2/se/reshape): OnnxReshape()\n",
       "  (block0/conv2/se/split): OnnxSplit13()\n",
       "  (block0/conv2/se/sigmoid): Sigmoid()\n",
       "  (block0/conv2/se/mul): OnnxBinaryMathOperation()\n",
       "  (block0/conv2/se/add3): OnnxBinaryMathOperation()\n",
       "  (block0/conv2/mixin): OnnxBinaryMathOperation()\n",
       "  (block0/conv2/relu): ReLU()\n",
       "  (block1/conv1): Conv2d(128, 128, kernel_size=(3, 3), stride=(1, 1), padding=(1, 1))\n",
       "  (block1/conv1/relu): ReLU()\n",
       "  (block1/conv2): Conv2d(128, 128, kernel_size=(3, 3), stride=(1, 1), padding=(1, 1))\n",
       "  (block1/conv2/se/pooled): OnnxGlobalAveragePoolWithKnownInputShape()\n",
       "  (block1/conv2/se/squeeze): OnnxSqueezeDynamicAxes()\n",
       "  (block1/conv2/se/matmul1): OnnxMatMul()\n",
       "  (block1/conv2/se/add1): OnnxBinaryMathOperation()\n",
       "  (block1/conv2/se/relu): ReLU()\n",
       "  (block1/conv2/se/matmul2): OnnxMatMul()\n",
       "  (block1/conv2/se/add2): OnnxBinaryMathOperation()\n",
       "  (block1/conv2/se/reshape): OnnxReshape()\n",
       "  (block1/conv2/se/split): OnnxSplit13()\n",
       "  (block1/conv2/se/sigmoid): Sigmoid()\n",
       "  (block1/conv2/se/mul): OnnxBinaryMathOperation()\n",
       "  (block1/conv2/se/add3): OnnxBinaryMathOperation()\n",
       "  (block1/conv2/mixin): OnnxBinaryMathOperation()\n",
       "  (block1/conv2/relu): ReLU()\n",
       "  (block2/conv1): Conv2d(128, 128, kernel_size=(3, 3), stride=(1, 1), padding=(1, 1))\n",
       "  (block2/conv1/relu): ReLU()\n",
       "  (block2/conv2): Conv2d(128, 128, kernel_size=(3, 3), stride=(1, 1), padding=(1, 1))\n",
       "  (block2/conv2/se/pooled): OnnxGlobalAveragePoolWithKnownInputShape()\n",
       "  (block2/conv2/se/squeeze): OnnxSqueezeDynamicAxes()\n",
       "  (block2/conv2/se/matmul1): OnnxMatMul()\n",
       "  (block2/conv2/se/add1): OnnxBinaryMathOperation()\n",
       "  (block2/conv2/se/relu): ReLU()\n",
       "  (block2/conv2/se/matmul2): OnnxMatMul()\n",
       "  (block2/conv2/se/add2): OnnxBinaryMathOperation()\n",
       "  (block2/conv2/se/reshape): OnnxReshape()\n",
       "  (block2/conv2/se/split): OnnxSplit13()\n",
       "  (block2/conv2/se/sigmoid): Sigmoid()\n",
       "  (block2/conv2/se/mul): OnnxBinaryMathOperation()\n",
       "  (block2/conv2/se/add3): OnnxBinaryMathOperation()\n",
       "  (block2/conv2/mixin): OnnxBinaryMathOperation()\n",
       "  (block2/conv2/relu): ReLU()\n",
       "  (block3/conv1): Conv2d(128, 128, kernel_size=(3, 3), stride=(1, 1), padding=(1, 1))\n",
       "  (block3/conv1/relu): ReLU()\n",
       "  (block3/conv2): Conv2d(128, 128, kernel_size=(3, 3), stride=(1, 1), padding=(1, 1))\n",
       "  (block3/conv2/se/pooled): OnnxGlobalAveragePoolWithKnownInputShape()\n",
       "  (block3/conv2/se/squeeze): OnnxSqueezeDynamicAxes()\n",
       "  (block3/conv2/se/matmul1): OnnxMatMul()\n",
       "  (block3/conv2/se/add1): OnnxBinaryMathOperation()\n",
       "  (block3/conv2/se/relu): ReLU()\n",
       "  (block3/conv2/se/matmul2): OnnxMatMul()\n",
       "  (block3/conv2/se/add2): OnnxBinaryMathOperation()\n",
       "  (block3/conv2/se/reshape): OnnxReshape()\n",
       "  (block3/conv2/se/split): OnnxSplit13()\n",
       "  (block3/conv2/se/sigmoid): Sigmoid()\n",
       "  (block3/conv2/se/mul): OnnxBinaryMathOperation()\n",
       "  (block3/conv2/se/add3): OnnxBinaryMathOperation()\n",
       "  (block3/conv2/mixin): OnnxBinaryMathOperation()\n",
       "  (block3/conv2/relu): ReLU()\n",
       "  (block4/conv1): Conv2d(128, 128, kernel_size=(3, 3), stride=(1, 1), padding=(1, 1))\n",
       "  (block4/conv1/relu): ReLU()\n",
       "  (block4/conv2): Conv2d(128, 128, kernel_size=(3, 3), stride=(1, 1), padding=(1, 1))\n",
       "  (block4/conv2/se/pooled): OnnxGlobalAveragePoolWithKnownInputShape()\n",
       "  (block4/conv2/se/squeeze): OnnxSqueezeDynamicAxes()\n",
       "  (block4/conv2/se/matmul1): OnnxMatMul()\n",
       "  (block4/conv2/se/add1): OnnxBinaryMathOperation()\n",
       "  (block4/conv2/se/relu): ReLU()\n",
       "  (block4/conv2/se/matmul2): OnnxMatMul()\n",
       "  (block4/conv2/se/add2): OnnxBinaryMathOperation()\n",
       "  (block4/conv2/se/reshape): OnnxReshape()\n",
       "  (block4/conv2/se/split): OnnxSplit13()\n",
       "  (block4/conv2/se/sigmoid): Sigmoid()\n",
       "  (block4/conv2/se/mul): OnnxBinaryMathOperation()\n",
       "  (block4/conv2/se/add3): OnnxBinaryMathOperation()\n",
       "  (block4/conv2/mixin): OnnxBinaryMathOperation()\n",
       "  (block4/conv2/relu): ReLU()\n",
       "  (block5/conv1): Conv2d(128, 128, kernel_size=(3, 3), stride=(1, 1), padding=(1, 1))\n",
       "  (block5/conv1/relu): ReLU()\n",
       "  (block5/conv2): Conv2d(128, 128, kernel_size=(3, 3), stride=(1, 1), padding=(1, 1))\n",
       "  (block5/conv2/se/pooled): OnnxGlobalAveragePoolWithKnownInputShape()\n",
       "  (block5/conv2/se/squeeze): OnnxSqueezeDynamicAxes()\n",
       "  (block5/conv2/se/matmul1): OnnxMatMul()\n",
       "  (block5/conv2/se/add1): OnnxBinaryMathOperation()\n",
       "  (block5/conv2/se/relu): ReLU()\n",
       "  (block5/conv2/se/matmul2): OnnxMatMul()\n",
       "  (block5/conv2/se/add2): OnnxBinaryMathOperation()\n",
       "  (block5/conv2/se/reshape): OnnxReshape()\n",
       "  (block5/conv2/se/split): OnnxSplit13()\n",
       "  (block5/conv2/se/sigmoid): Sigmoid()\n",
       "  (block5/conv2/se/mul): OnnxBinaryMathOperation()\n",
       "  (block5/conv2/se/add3): OnnxBinaryMathOperation()\n",
       "  (block5/conv2/mixin): OnnxBinaryMathOperation()\n",
       "  (block5/conv2/relu): ReLU()\n",
       "  (block6/conv1): Conv2d(128, 128, kernel_size=(3, 3), stride=(1, 1), padding=(1, 1))\n",
       "  (block6/conv1/relu): ReLU()\n",
       "  (block6/conv2): Conv2d(128, 128, kernel_size=(3, 3), stride=(1, 1), padding=(1, 1))\n",
       "  (block6/conv2/se/pooled): OnnxGlobalAveragePoolWithKnownInputShape()\n",
       "  (block6/conv2/se/squeeze): OnnxSqueezeDynamicAxes()\n",
       "  (block6/conv2/se/matmul1): OnnxMatMul()\n",
       "  (block6/conv2/se/add1): OnnxBinaryMathOperation()\n",
       "  (block6/conv2/se/relu): ReLU()\n",
       "  (block6/conv2/se/matmul2): OnnxMatMul()\n",
       "  (block6/conv2/se/add2): OnnxBinaryMathOperation()\n",
       "  (block6/conv2/se/reshape): OnnxReshape()\n",
       "  (block6/conv2/se/split): OnnxSplit13()\n",
       "  (block6/conv2/se/sigmoid): Sigmoid()\n",
       "  (block6/conv2/se/mul): OnnxBinaryMathOperation()\n",
       "  (block6/conv2/se/add3): OnnxBinaryMathOperation()\n",
       "  (block6/conv2/mixin): OnnxBinaryMathOperation()\n",
       "  (block6/conv2/relu): ReLU()\n",
       "  (block7/conv1): Conv2d(128, 128, kernel_size=(3, 3), stride=(1, 1), padding=(1, 1))\n",
       "  (block7/conv1/relu): ReLU()\n",
       "  (block7/conv2): Conv2d(128, 128, kernel_size=(3, 3), stride=(1, 1), padding=(1, 1))\n",
       "  (block7/conv2/se/pooled): OnnxGlobalAveragePoolWithKnownInputShape()\n",
       "  (block7/conv2/se/squeeze): OnnxSqueezeDynamicAxes()\n",
       "  (block7/conv2/se/matmul1): OnnxMatMul()\n",
       "  (block7/conv2/se/add1): OnnxBinaryMathOperation()\n",
       "  (block7/conv2/se/relu): ReLU()\n",
       "  (block7/conv2/se/matmul2): OnnxMatMul()\n",
       "  (block7/conv2/se/add2): OnnxBinaryMathOperation()\n",
       "  (block7/conv2/se/reshape): OnnxReshape()\n",
       "  (block7/conv2/se/split): OnnxSplit13()\n",
       "  (block7/conv2/se/sigmoid): Sigmoid()\n",
       "  (block7/conv2/se/mul): OnnxBinaryMathOperation()\n",
       "  (block7/conv2/se/add3): OnnxBinaryMathOperation()\n",
       "  (block7/conv2/mixin): OnnxBinaryMathOperation()\n",
       "  (block7/conv2/relu): ReLU()\n",
       "  (block8/conv1): Conv2d(128, 128, kernel_size=(3, 3), stride=(1, 1), padding=(1, 1))\n",
       "  (block8/conv1/relu): ReLU()\n",
       "  (block8/conv2): Conv2d(128, 128, kernel_size=(3, 3), stride=(1, 1), padding=(1, 1))\n",
       "  (block8/conv2/se/pooled): OnnxGlobalAveragePoolWithKnownInputShape()\n",
       "  (block8/conv2/se/squeeze): OnnxSqueezeDynamicAxes()\n",
       "  (block8/conv2/se/matmul1): OnnxMatMul()\n",
       "  (block8/conv2/se/add1): OnnxBinaryMathOperation()\n",
       "  (block8/conv2/se/relu): ReLU()\n",
       "  (block8/conv2/se/matmul2): OnnxMatMul()\n",
       "  (block8/conv2/se/add2): OnnxBinaryMathOperation()\n",
       "  (block8/conv2/se/reshape): OnnxReshape()\n",
       "  (block8/conv2/se/split): OnnxSplit13()\n",
       "  (block8/conv2/se/sigmoid): Sigmoid()\n",
       "  (block8/conv2/se/mul): OnnxBinaryMathOperation()\n",
       "  (block8/conv2/se/add3): OnnxBinaryMathOperation()\n",
       "  (block8/conv2/mixin): OnnxBinaryMathOperation()\n",
       "  (block8/conv2/relu): ReLU()\n",
       "  (block9/conv1): Conv2d(128, 128, kernel_size=(3, 3), stride=(1, 1), padding=(1, 1))\n",
       "  (block9/conv1/relu): ReLU()\n",
       "  (block9/conv2): Conv2d(128, 128, kernel_size=(3, 3), stride=(1, 1), padding=(1, 1))\n",
       "  (block9/conv2/se/pooled): OnnxGlobalAveragePoolWithKnownInputShape()\n",
       "  (block9/conv2/se/squeeze): OnnxSqueezeDynamicAxes()\n",
       "  (block9/conv2/se/matmul1): OnnxMatMul()\n",
       "  (block9/conv2/se/add1): OnnxBinaryMathOperation()\n",
       "  (block9/conv2/se/relu): ReLU()\n",
       "  (block9/conv2/se/matmul2): OnnxMatMul()\n",
       "  (block9/conv2/se/add2): OnnxBinaryMathOperation()\n",
       "  (block9/conv2/se/reshape): OnnxReshape()\n",
       "  (block9/conv2/se/split): OnnxSplit13()\n",
       "  (block9/conv2/se/sigmoid): Sigmoid()\n",
       "  (block9/conv2/se/mul): OnnxBinaryMathOperation()\n",
       "  (block9/conv2/se/add3): OnnxBinaryMathOperation()\n",
       "  (block9/conv2/mixin): OnnxBinaryMathOperation()\n",
       "  (block9/conv2/relu): ReLU()\n",
       "  (policy/conv1): Conv2d(128, 128, kernel_size=(3, 3), stride=(1, 1), padding=(1, 1))\n",
       "  (policy/conv1/relu): ReLU()\n",
       "  (policy/conv2): Conv2d(128, 80, kernel_size=(3, 3), stride=(1, 1), padding=(1, 1))\n",
       "  (policy/flatten): OnnxReshape()\n",
       "  (output/policy): OnnxGather()\n",
       "  (value/conv): Conv2d(128, 32, kernel_size=(1, 1), stride=(1, 1))\n",
       "  (value/conv/relu): ReLU()\n",
       "  (value/reshape): OnnxReshape()\n",
       "  (value/dense1/matmul): OnnxMatMul()\n",
       "  (value/dense1/add): OnnxBinaryMathOperation()\n",
       "  (value/dense1/relu): ReLU()\n",
       "  (value/dense2/matmul): OnnxMatMul()\n",
       "  (value/dense2/add): OnnxBinaryMathOperation()\n",
       "  (output/wdl): Softmax(dim=1)\n",
       "  (mlh/conv): Conv2d(128, 8, kernel_size=(1, 1), stride=(1, 1))\n",
       "  (mlh/conv/relu): ReLU()\n",
       "  (mlh/reshape): OnnxReshape()\n",
       "  (mlh/dense1/matmul): OnnxMatMul()\n",
       "  (mlh/dense1/add): OnnxBinaryMathOperation()\n",
       "  (mlh/dense1/relu): ReLU()\n",
       "  (mlh/dense2/matmul): OnnxMatMul()\n",
       "  (mlh/dense2/add): OnnxBinaryMathOperation()\n",
       "  (mlh/dense2/relu): ReLU()\n",
       "  (output/mlh): OnnxCopyIdentity()\n",
       ")"
      ]
     },
     "execution_count": 21,
     "metadata": {},
     "output_type": "execute_result"
    }
   ],
   "source": [
    "model"
   ]
  },
  {
   "cell_type": "code",
   "execution_count": 18,
   "id": "88894f3e",
   "metadata": {},
   "outputs": [
    {
     "data": {
      "text/plain": [
       "['block0/conv1',\n",
       " 'block0/conv2',\n",
       " 'block0/conv2/se/matmul1',\n",
       " 'block0/conv2/se/add1',\n",
       " 'block0/conv2/se/matmul2',\n",
       " 'block0/conv2/se/add2',\n",
       " 'block0/conv2/se/add3',\n",
       " 'block1/conv1',\n",
       " 'block1/conv2',\n",
       " 'block1/conv2/se/matmul1',\n",
       " 'block1/conv2/se/add1',\n",
       " 'block1/conv2/se/matmul2',\n",
       " 'block1/conv2/se/add2',\n",
       " 'block1/conv2/se/add3',\n",
       " 'block2/conv1',\n",
       " 'block2/conv2',\n",
       " 'block2/conv2/se/matmul1',\n",
       " 'block2/conv2/se/add1',\n",
       " 'block2/conv2/se/matmul2',\n",
       " 'block2/conv2/se/add2',\n",
       " 'block2/conv2/se/add3',\n",
       " 'block3/conv1',\n",
       " 'block3/conv2',\n",
       " 'block3/conv2/se/matmul1',\n",
       " 'block3/conv2/se/add1',\n",
       " 'block3/conv2/se/matmul2',\n",
       " 'block3/conv2/se/add2',\n",
       " 'block3/conv2/se/add3',\n",
       " 'block4/conv1',\n",
       " 'block4/conv2',\n",
       " 'block4/conv2/se/matmul1',\n",
       " 'block4/conv2/se/add1',\n",
       " 'block4/conv2/se/matmul2',\n",
       " 'block4/conv2/se/add2',\n",
       " 'block4/conv2/se/add3',\n",
       " 'block5/conv1',\n",
       " 'block5/conv2',\n",
       " 'block5/conv2/se/matmul1',\n",
       " 'block5/conv2/se/add1',\n",
       " 'block5/conv2/se/matmul2',\n",
       " 'block5/conv2/se/add2',\n",
       " 'block5/conv2/se/add3',\n",
       " 'block6/conv1',\n",
       " 'block6/conv2',\n",
       " 'block6/conv2/se/matmul1',\n",
       " 'block6/conv2/se/add1',\n",
       " 'block6/conv2/se/matmul2',\n",
       " 'block6/conv2/se/add2',\n",
       " 'block6/conv2/se/add3',\n",
       " 'block7/conv1',\n",
       " 'block7/conv2',\n",
       " 'block7/conv2/se/matmul1',\n",
       " 'block7/conv2/se/add1',\n",
       " 'block7/conv2/se/matmul2',\n",
       " 'block7/conv2/se/add2',\n",
       " 'block7/conv2/se/add3',\n",
       " 'block8/conv1',\n",
       " 'block8/conv2',\n",
       " 'block8/conv2/se/matmul1',\n",
       " 'block8/conv2/se/add1',\n",
       " 'block8/conv2/se/matmul2',\n",
       " 'block8/conv2/se/add2',\n",
       " 'block8/conv2/se/add3',\n",
       " 'block9/conv1',\n",
       " 'block9/conv2',\n",
       " 'block9/conv2/se/matmul1',\n",
       " 'block9/conv2/se/add1',\n",
       " 'block9/conv2/se/matmul2',\n",
       " 'block9/conv2/se/add2',\n",
       " 'block9/conv2/se/add3',\n",
       " 'policy/conv1',\n",
       " 'policy/conv2']"
      ]
     },
     "execution_count": 18,
     "metadata": {},
     "output_type": "execute_result"
    }
   ],
   "source": [
    "[*activations.keys()]"
   ]
  },
  {
   "cell_type": "code",
   "execution_count": null,
   "id": "05a6d8b0",
   "metadata": {},
   "outputs": [],
   "source": [
    "from lib.lczerolens.src.lczerolens.lenses import ActivationLens, ActivationBuffer\n",
    "import chess\n",
    "import einops\n",
    "\n",
    "MODULE_NAME = 'block9/conv2/relu'\n",
    "LENS = ActivationLens(MODULE_NAME)\n",
    "N_BATCHES_IN_BUFFER = 15\n",
    "COMPUTE_BATCH_SIZE = 1_000\n",
    "TRAIN_BATCH_SIZE = 10_000\n",
    "\n",
    "def collate_fn(batch):\n",
    "    boards = []\n",
    "    for x in batch:\n",
    "        fen = x[\"fen\"]\n",
    "        moves = x[\"moves\"]\n",
    "        board = chess.Board(fen)\n",
    "        for move in moves:\n",
    "            board.push(chess.Move.from_uci(move))\n",
    "        boards.append(board)\n",
    "    return boards\n",
    "\n",
    "def _compute_fn(batch, model, lens):\n",
    "    boards = batch\n",
    "    storage = lens.analyse(*boards, model=model)[0]\n",
    "    if len(storage.keys()) != 1:\n",
    "        raise NotImplementedError\n",
    "    acts = next(iter(storage.values()))\n",
    "    return einops.rearrange(acts, \"b c h w -> (b h w) c\")\n",
    "\n",
    "def compute_fn(batch, model):\n",
    "    return _compute_fn(batch, model, LENS)"
   ]
  },
  {
   "cell_type": "code",
   "execution_count": 46,
   "id": "fbd05ef4",
   "metadata": {},
   "outputs": [],
   "source": [
    "train_buffer = ActivationBuffer(\n",
    "    model,\n",
    "    dataset[\"train\"],\n",
    "    compute_fn,\n",
    "    N_BATCHES_IN_BUFFER,\n",
    "    COMPUTE_BATCH_SIZE,\n",
    "    TRAIN_BATCH_SIZE,\n",
    "    dataloader_kwargs={\"collate_fn\": collate_fn},\n",
    ")\n",
    "\n",
    "val_buffer = ActivationBuffer(\n",
    "    model,\n",
    "    dataset[\"test\"],\n",
    "    compute_fn,\n",
    "    N_BATCHES_IN_BUFFER,\n",
    "    COMPUTE_BATCH_SIZE,\n",
    "    TRAIN_BATCH_SIZE,\n",
    "    dataloader_kwargs={\"collate_fn\": collate_fn},\n",
    ")\n"
   ]
  },
  {
   "cell_type": "code",
   "execution_count": 47,
   "id": "c5d9df0e-57c3-4f1a-aa28-54ebf62724f6",
   "metadata": {},
   "outputs": [
    {
     "name": "stdout",
     "output_type": "stream",
     "text": [
      "Out acts:  torch.Size([10000, 128])\n",
      "Stored acts:  torch.Size([960000, 128])\n"
     ]
    }
   ],
   "source": [
    "acts = next(iter(train_buffer))\n",
    "print(\"Out acts: \", acts.shape)\n",
    "print(\"Stored acts: \", torch.cat(train_buffer._buffer, dim=0).shape)"
   ]
  },
  {
   "cell_type": "code",
   "execution_count": null,
   "id": "60d2d2af",
   "metadata": {},
   "outputs": [],
   "source": []
  }
 ],
 "metadata": {
  "kernelspec": {
   "display_name": "Python 3",
   "language": "python",
   "name": "python3"
  },
  "language_info": {
   "codemirror_mode": {
    "name": "ipython",
    "version": 3
   },
   "file_extension": ".py",
   "mimetype": "text/x-python",
   "name": "python",
   "nbconvert_exporter": "python",
   "pygments_lexer": "ipython3",
   "version": "3.9.20"
  }
 },
 "nbformat": 4,
 "nbformat_minor": 5
}
